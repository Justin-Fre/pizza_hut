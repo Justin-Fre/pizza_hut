{
 "cells": [
  {
   "cell_type": "markdown",
   "metadata": {},
   "source": [
    "# Explore  data  about  customer  satisfied  one of big pizza company which is pizza  hut\n",
    "\n",
    "## 1. Business problem\n",
    "\n",
    "Dataset Overview:\n",
    "The \"Pizza Hut Reviews and Ratings: Insights from One of Sri Lanka's Pioneer Branches\" dataset comprises a detailed compilation of customer feedback for the Pizza Hut outlet at Union Place, Colombo. This branch stands out as one of the inaugural Pizza Hut locations in Sri Lanka. The dataset is structured to encapsulate a wide array of customer experiences through ratings and textual reviews.\n",
    "\n",
    "Data Science Applications:\n",
    "Sentiment Analysis: Extracting and analyzing customer sentiments from textual reviews.\n",
    "Trend Identification: Identifying patterns and trends in customer feedback over time.\n",
    "Customer Satisfaction Metrics: Quantifying satisfaction levels based on ratings and review content.\n",
    "Column Descriptors:\n",
    "title: Specifies the Pizza Hut location reviewed, here being Union Place, Colombo.\n",
    "stars: Customer-provided rating on a scale from 1 (lowest) to 5 (highest).\n",
    "text: Customer's written review, offering deeper insights into their experience.\n",
    "Ethically Mined Data:\n",
    "The dataset adheres to strict data privacy standards, including GDPR, ensuring the removal of personal identifiers to maintain reviewer anonymity and privacy.\n",
    "\n",
    "Acknowledgments:\n",
    "Gratitude is extended to the platforms enabling this data collection and to Pizza Hut for the use of their logo as the thumbnail image for this dataset. This is purely for illustrative purposes and does not imply any affiliation or endorsement."
   ]
  },
  {
   "cell_type": "markdown",
   "metadata": {},
   "source": []
  },
  {
   "cell_type": "markdown",
   "metadata": {},
   "source": [
    "## 2. Explore  data \n",
    "\n",
    "### 2.1. Input dataa"
   ]
  },
  {
   "cell_type": "code",
   "execution_count": 1,
   "metadata": {},
   "outputs": [
    {
     "data": {
      "text/html": [
       "<div>\n",
       "<style scoped>\n",
       "    .dataframe tbody tr th:only-of-type {\n",
       "        vertical-align: middle;\n",
       "    }\n",
       "\n",
       "    .dataframe tbody tr th {\n",
       "        vertical-align: top;\n",
       "    }\n",
       "\n",
       "    .dataframe thead th {\n",
       "        text-align: right;\n",
       "    }\n",
       "</style>\n",
       "<table border=\"1\" class=\"dataframe\">\n",
       "  <thead>\n",
       "    <tr style=\"text-align: right;\">\n",
       "      <th></th>\n",
       "      <th>title</th>\n",
       "      <th>stars</th>\n",
       "      <th>text</th>\n",
       "    </tr>\n",
       "  </thead>\n",
       "  <tbody>\n",
       "    <tr>\n",
       "      <th>0</th>\n",
       "      <td>Pizza Hut - Union Place</td>\n",
       "      <td>5</td>\n",
       "      <td>NaN</td>\n",
       "    </tr>\n",
       "    <tr>\n",
       "      <th>1</th>\n",
       "      <td>Pizza Hut - Union Place</td>\n",
       "      <td>5</td>\n",
       "      <td>NaN</td>\n",
       "    </tr>\n",
       "    <tr>\n",
       "      <th>2</th>\n",
       "      <td>Pizza Hut - Union Place</td>\n",
       "      <td>4</td>\n",
       "      <td>NaN</td>\n",
       "    </tr>\n",
       "    <tr>\n",
       "      <th>3</th>\n",
       "      <td>Pizza Hut - Union Place</td>\n",
       "      <td>5</td>\n",
       "      <td>NaN</td>\n",
       "    </tr>\n",
       "    <tr>\n",
       "      <th>4</th>\n",
       "      <td>Pizza Hut - Union Place</td>\n",
       "      <td>4</td>\n",
       "      <td>NaN</td>\n",
       "    </tr>\n",
       "  </tbody>\n",
       "</table>\n",
       "</div>"
      ],
      "text/plain": [
       "                     title  stars text\n",
       "0  Pizza Hut - Union Place      5  NaN\n",
       "1  Pizza Hut - Union Place      5  NaN\n",
       "2  Pizza Hut - Union Place      4  NaN\n",
       "3  Pizza Hut - Union Place      5  NaN\n",
       "4  Pizza Hut - Union Place      4  NaN"
      ]
     },
     "execution_count": 1,
     "metadata": {},
     "output_type": "execute_result"
    }
   ],
   "source": [
    "import pandas as pd\n",
    "import numpy as np\n",
    "\n",
    "# link to file excel\n",
    "path = '/Users/mac/Desktop/Project/pizza_hut/pizza_hut_reviews.csv'\n",
    "\n",
    "# read file\n",
    "\n",
    "df = pd.read_csv(path)\n",
    "\n",
    "# show\n",
    "\n",
    "df.head()\n"
   ]
  },
  {
   "cell_type": "code",
   "execution_count": 2,
   "metadata": {},
   "outputs": [
    {
     "data": {
      "text/plain": [
       "array([nan, 'Good place to visit to have some food',\n",
       "       'Had a personal pan chicken tandoori, it was quite on point just like the pizza hut one looks forward to. The staff was courteous and had parking space too.',\n",
       "       ...,\n",
       "       'Very good outlet. Since this is a restaurant they have a very good range of food and beverages',\n",
       "       'Our usual family dinner place at least once in a month. Friendly staff',\n",
       "       'Had to wait about two hours for just a lava cake .'], dtype=object)"
      ]
     },
     "execution_count": 2,
     "metadata": {},
     "output_type": "execute_result"
    }
   ],
   "source": [
    "df['text'].unique()"
   ]
  },
  {
   "cell_type": "code",
   "execution_count": 3,
   "metadata": {},
   "outputs": [
    {
     "data": {
      "text/html": [
       "<div>\n",
       "<style scoped>\n",
       "    .dataframe tbody tr th:only-of-type {\n",
       "        vertical-align: middle;\n",
       "    }\n",
       "\n",
       "    .dataframe tbody tr th {\n",
       "        vertical-align: top;\n",
       "    }\n",
       "\n",
       "    .dataframe thead th {\n",
       "        text-align: right;\n",
       "    }\n",
       "</style>\n",
       "<table border=\"1\" class=\"dataframe\">\n",
       "  <thead>\n",
       "    <tr style=\"text-align: right;\">\n",
       "      <th></th>\n",
       "      <th>stars</th>\n",
       "    </tr>\n",
       "  </thead>\n",
       "  <tbody>\n",
       "    <tr>\n",
       "      <th>count</th>\n",
       "      <td>4000.000000</td>\n",
       "    </tr>\n",
       "    <tr>\n",
       "      <th>mean</th>\n",
       "      <td>4.371500</td>\n",
       "    </tr>\n",
       "    <tr>\n",
       "      <th>std</th>\n",
       "      <td>0.985003</td>\n",
       "    </tr>\n",
       "    <tr>\n",
       "      <th>min</th>\n",
       "      <td>1.000000</td>\n",
       "    </tr>\n",
       "    <tr>\n",
       "      <th>25%</th>\n",
       "      <td>4.000000</td>\n",
       "    </tr>\n",
       "    <tr>\n",
       "      <th>50%</th>\n",
       "      <td>5.000000</td>\n",
       "    </tr>\n",
       "    <tr>\n",
       "      <th>75%</th>\n",
       "      <td>5.000000</td>\n",
       "    </tr>\n",
       "    <tr>\n",
       "      <th>max</th>\n",
       "      <td>5.000000</td>\n",
       "    </tr>\n",
       "  </tbody>\n",
       "</table>\n",
       "</div>"
      ],
      "text/plain": [
       "             stars\n",
       "count  4000.000000\n",
       "mean      4.371500\n",
       "std       0.985003\n",
       "min       1.000000\n",
       "25%       4.000000\n",
       "50%       5.000000\n",
       "75%       5.000000\n",
       "max       5.000000"
      ]
     },
     "execution_count": 3,
     "metadata": {},
     "output_type": "execute_result"
    }
   ],
   "source": [
    "df.describe()"
   ]
  },
  {
   "cell_type": "code",
   "execution_count": 4,
   "metadata": {},
   "outputs": [
    {
     "name": "stdout",
     "output_type": "stream",
     "text": [
      "<class 'pandas.core.frame.DataFrame'>\n",
      "RangeIndex: 4000 entries, 0 to 3999\n",
      "Data columns (total 3 columns):\n",
      " #   Column  Non-Null Count  Dtype \n",
      "---  ------  --------------  ----- \n",
      " 0   title   4000 non-null   object\n",
      " 1   stars   4000 non-null   int64 \n",
      " 2   text    1308 non-null   object\n",
      "dtypes: int64(1), object(2)\n",
      "memory usage: 93.9+ KB\n"
     ]
    }
   ],
   "source": [
    "df.info()"
   ]
  },
  {
   "cell_type": "code",
   "execution_count": 5,
   "metadata": {},
   "outputs": [
    {
     "data": {
      "text/plain": [
       "array(['Pizza Hut - Union Place'], dtype=object)"
      ]
     },
     "execution_count": 5,
     "metadata": {},
     "output_type": "execute_result"
    }
   ],
   "source": [
    "df['title'].unique()"
   ]
  },
  {
   "cell_type": "markdown",
   "metadata": {},
   "source": [
    "## 3. Clear data"
   ]
  },
  {
   "cell_type": "markdown",
   "metadata": {},
   "source": [
    "#### 3.1. Clear dữ liệu cột text"
   ]
  },
  {
   "cell_type": "code",
   "execution_count": 6,
   "metadata": {},
   "outputs": [
    {
     "data": {
      "text/plain": [
       "0                                         NaN\n",
       "1                                         NaN\n",
       "2                                         NaN\n",
       "3                                         NaN\n",
       "4                                         NaN\n",
       "                       ...                   \n",
       "95                                        NaN\n",
       "96                                        NaN\n",
       "97    Their melts are superb with kochchi dip\n",
       "98                         Good experience...\n",
       "99                                        NaN\n",
       "Name: text, Length: 100, dtype: object"
      ]
     },
     "execution_count": 6,
     "metadata": {},
     "output_type": "execute_result"
    }
   ],
   "source": [
    "## xoá khoảng trông trước và sau trong 1 ô\n",
    "df['text'] = df['text'].str.strip()\n",
    "df['text'].head(100)"
   ]
  },
  {
   "cell_type": "code",
   "execution_count": 7,
   "metadata": {},
   "outputs": [
    {
     "name": "stdout",
     "output_type": "stream",
     "text": [
      "text\n",
      "Good                                                                                                                                              38\n",
      "Good service                                                                                                                                      18\n",
      "Nice place                                                                                                                                         9\n",
      "Good place                                                                                                                                         8\n",
      "Excellent                                                                                                                                          8\n",
      "                                                                                                                                                  ..\n",
      "Premium pizza experience                                                                                                                           1\n",
      "Yum                                                                                                                                                1\n",
      "Best location to give supprise b'day party                                                                                                         1\n",
      "Visited this pizza hut recently and had a great time. Friendly staff who works helps in every way. I recommend this place to other to check on     1\n",
      "Had to wait about two hours for just a lava cake .                                                                                                 1\n",
      "Name: count, Length: 1172, dtype: int64\n"
     ]
    }
   ],
   "source": [
    "a = df['text'].value_counts()\n",
    "print(a)"
   ]
  },
  {
   "cell_type": "code",
   "execution_count": 8,
   "metadata": {},
   "outputs": [
    {
     "name": "stdout",
     "output_type": "stream",
     "text": [
      "0       non attention\n",
      "1       non attention\n",
      "2       non attention\n",
      "3       non attention\n",
      "4       non attention\n",
      "            ...      \n",
      "3995    non attention\n",
      "3996        attention\n",
      "3997        attention\n",
      "3998        attention\n",
      "3999        attention\n",
      "Name: checkmore, Length: 4000, dtype: object\n"
     ]
    }
   ],
   "source": [
    "\n",
    "df['text'] = df['text'].apply(lambda x: str(x) if isinstance(x, float) else x)\n",
    "# Tạo một cột mới 'New Column' và gán giá trị mặc định là None\n",
    "df['checkmore'] = 'non attention'\n",
    "\n",
    "# Kiểm tra và gán giá trị cho cột mới\n",
    "df.loc[df['text'].str.split().apply(len) >= 3, 'checkmore'] = 'attention'\n",
    "\n",
    "print (df['checkmore'])"
   ]
  },
  {
   "cell_type": "code",
   "execution_count": 9,
   "metadata": {},
   "outputs": [
    {
     "name": "stdout",
     "output_type": "stream",
     "text": [
      "checkmore\n",
      "non attention    3006\n",
      "attention         994\n",
      "Name: count, dtype: int64\n"
     ]
    }
   ],
   "source": [
    "a = df['checkmore'].value_counts()\n",
    "print (a)"
   ]
  },
  {
   "cell_type": "code",
   "execution_count": 10,
   "metadata": {},
   "outputs": [
    {
     "data": {
      "text/html": [
       "<div>\n",
       "<style scoped>\n",
       "    .dataframe tbody tr th:only-of-type {\n",
       "        vertical-align: middle;\n",
       "    }\n",
       "\n",
       "    .dataframe tbody tr th {\n",
       "        vertical-align: top;\n",
       "    }\n",
       "\n",
       "    .dataframe thead th {\n",
       "        text-align: right;\n",
       "    }\n",
       "</style>\n",
       "<table border=\"1\" class=\"dataframe\">\n",
       "  <thead>\n",
       "    <tr style=\"text-align: right;\">\n",
       "      <th></th>\n",
       "      <th>title</th>\n",
       "      <th>stars</th>\n",
       "      <th>text</th>\n",
       "      <th>checkmore</th>\n",
       "    </tr>\n",
       "  </thead>\n",
       "  <tbody>\n",
       "    <tr>\n",
       "      <th>6</th>\n",
       "      <td>Pizza Hut - Union Place</td>\n",
       "      <td>5</td>\n",
       "      <td>Good place to visit to have some food</td>\n",
       "      <td>attention</td>\n",
       "    </tr>\n",
       "    <tr>\n",
       "      <th>7</th>\n",
       "      <td>Pizza Hut - Union Place</td>\n",
       "      <td>5</td>\n",
       "      <td>Had a personal pan chicken tandoori, it was qu...</td>\n",
       "      <td>attention</td>\n",
       "    </tr>\n",
       "    <tr>\n",
       "      <th>12</th>\n",
       "      <td>Pizza Hut - Union Place</td>\n",
       "      <td>5</td>\n",
       "      <td>Very good place to dine in Pizza\\nNice and qui...</td>\n",
       "      <td>attention</td>\n",
       "    </tr>\n",
       "    <tr>\n",
       "      <th>13</th>\n",
       "      <td>Pizza Hut - Union Place</td>\n",
       "      <td>5</td>\n",
       "      <td>Very good service..clean place...</td>\n",
       "      <td>attention</td>\n",
       "    </tr>\n",
       "    <tr>\n",
       "      <th>15</th>\n",
       "      <td>Pizza Hut - Union Place</td>\n",
       "      <td>5</td>\n",
       "      <td>Yes it was very clean beautiful environment. p...</td>\n",
       "      <td>attention</td>\n",
       "    </tr>\n",
       "  </tbody>\n",
       "</table>\n",
       "</div>"
      ],
      "text/plain": [
       "                      title  stars  \\\n",
       "6   Pizza Hut - Union Place      5   \n",
       "7   Pizza Hut - Union Place      5   \n",
       "12  Pizza Hut - Union Place      5   \n",
       "13  Pizza Hut - Union Place      5   \n",
       "15  Pizza Hut - Union Place      5   \n",
       "\n",
       "                                                 text  checkmore  \n",
       "6               Good place to visit to have some food  attention  \n",
       "7   Had a personal pan chicken tandoori, it was qu...  attention  \n",
       "12  Very good place to dine in Pizza\\nNice and qui...  attention  \n",
       "13                  Very good service..clean place...  attention  \n",
       "15  Yes it was very clean beautiful environment. p...  attention  "
      ]
     },
     "execution_count": 10,
     "metadata": {},
     "output_type": "execute_result"
    }
   ],
   "source": [
    "data = df.loc[df['checkmore'] == 'attention']\n",
    "data.head()"
   ]
  },
  {
   "cell_type": "markdown",
   "metadata": {},
   "source": [
    "## 4. Trực quan hoá dự liệu"
   ]
  },
  {
   "cell_type": "code",
   "execution_count": 11,
   "metadata": {},
   "outputs": [
    {
     "data": {
      "image/png": "[encoded data removed]",
      "text/plain": [
       "<Figure size 640x480 with 1 Axes>"
      ]
     },
     "metadata": {},
     "output_type": "display_data"
    }
   ],
   "source": [
    "import matplotlib.pyplot as plt\n",
    "import seaborn as sns\n",
    "\n",
    "df['stars'].value_counts().plot(kind='bar')\n",
    "# Đặt tiêu đề và nhãn trục\n",
    "plt.title('Số lượng bản ghi theo vote sao')\n",
    "plt.xlabel('loại sao')\n",
    "plt.ylabel('volume')\n",
    "\n",
    "plt.show()"
   ]
  },
  {
   "cell_type": "markdown",
   "metadata": {},
   "source": [
    "#### Không ngoài dự đoán, pizzahut được khách hàng vote 5 sao nhiều nhất (câo gấp 1,5 lần so với 4 sao). Tuy nhiên vẫn có vote 1,2,3 khá nhiều. Cần tìm nguyên nhân và khắc phục"
   ]
  },
  {
   "cell_type": "code",
   "execution_count": 12,
   "metadata": {},
   "outputs": [
    {
     "data": {
      "image/png": "[encoded data removed]",
      "text/plain": [
       "<Figure size 640x480 with 1 Axes>"
      ]
     },
     "metadata": {},
     "output_type": "display_data"
    }
   ],
   "source": [
    "df['checkmore'].value_counts().plot(kind='bar')\n",
    "# Đặt tiêu đề và nhãn trục\n",
    "plt.title('Góp ý khách hàng cần chú tâm')\n",
    "plt.xlabel('Loại góp ý')\n",
    "plt.ylabel('volume')\n",
    "\n",
    "plt.show()"
   ]
  },
  {
   "cell_type": "markdown",
   "metadata": {},
   "source": [
    "#### Cần phải phân tích chiều thông tin khách hàng góp ý để cải thiện chất lượng dịch vụ"
   ]
  },
  {
   "cell_type": "code",
   "execution_count": 42,
   "metadata": {},
   "outputs": [
    {
     "data": {
      "text/html": [
       "<div>\n",
       "<style scoped>\n",
       "    .dataframe tbody tr th:only-of-type {\n",
       "        vertical-align: middle;\n",
       "    }\n",
       "\n",
       "    .dataframe tbody tr th {\n",
       "        vertical-align: top;\n",
       "    }\n",
       "\n",
       "    .dataframe thead th {\n",
       "        text-align: right;\n",
       "    }\n",
       "</style>\n",
       "<table border=\"1\" class=\"dataframe\">\n",
       "  <thead>\n",
       "    <tr style=\"text-align: right;\">\n",
       "      <th></th>\n",
       "      <th>title</th>\n",
       "      <th>stars</th>\n",
       "      <th>text</th>\n",
       "      <th>checkmore</th>\n",
       "    </tr>\n",
       "  </thead>\n",
       "  <tbody>\n",
       "    <tr>\n",
       "      <th>6</th>\n",
       "      <td>Pizza Hut - Union Place</td>\n",
       "      <td>5</td>\n",
       "      <td>Good place to visit to have some food</td>\n",
       "      <td>attention</td>\n",
       "    </tr>\n",
       "    <tr>\n",
       "      <th>7</th>\n",
       "      <td>Pizza Hut - Union Place</td>\n",
       "      <td>5</td>\n",
       "      <td>Had a personal pan chicken tandoori, it was qu...</td>\n",
       "      <td>attention</td>\n",
       "    </tr>\n",
       "    <tr>\n",
       "      <th>12</th>\n",
       "      <td>Pizza Hut - Union Place</td>\n",
       "      <td>5</td>\n",
       "      <td>Very good place to dine in Pizza\\nNice and qui...</td>\n",
       "      <td>attention</td>\n",
       "    </tr>\n",
       "    <tr>\n",
       "      <th>13</th>\n",
       "      <td>Pizza Hut - Union Place</td>\n",
       "      <td>5</td>\n",
       "      <td>Very good service..clean place...</td>\n",
       "      <td>attention</td>\n",
       "    </tr>\n",
       "    <tr>\n",
       "      <th>15</th>\n",
       "      <td>Pizza Hut - Union Place</td>\n",
       "      <td>5</td>\n",
       "      <td>Yes it was very clean beautiful environment. p...</td>\n",
       "      <td>attention</td>\n",
       "    </tr>\n",
       "    <tr>\n",
       "      <th>...</th>\n",
       "      <td>...</td>\n",
       "      <td>...</td>\n",
       "      <td>...</td>\n",
       "      <td>...</td>\n",
       "    </tr>\n",
       "    <tr>\n",
       "      <th>3994</th>\n",
       "      <td>Pizza Hut - Union Place</td>\n",
       "      <td>5</td>\n",
       "      <td>Ample parking &amp; friendly staff</td>\n",
       "      <td>attention</td>\n",
       "    </tr>\n",
       "    <tr>\n",
       "      <th>3996</th>\n",
       "      <td>Pizza Hut - Union Place</td>\n",
       "      <td>4</td>\n",
       "      <td>Very helpful staff</td>\n",
       "      <td>attention</td>\n",
       "    </tr>\n",
       "    <tr>\n",
       "      <th>3997</th>\n",
       "      <td>Pizza Hut - Union Place</td>\n",
       "      <td>5</td>\n",
       "      <td>Very good outlet. Since this is a restaurant t...</td>\n",
       "      <td>attention</td>\n",
       "    </tr>\n",
       "    <tr>\n",
       "      <th>3998</th>\n",
       "      <td>Pizza Hut - Union Place</td>\n",
       "      <td>4</td>\n",
       "      <td>Our usual family dinner place at least once in...</td>\n",
       "      <td>attention</td>\n",
       "    </tr>\n",
       "    <tr>\n",
       "      <th>3999</th>\n",
       "      <td>Pizza Hut - Union Place</td>\n",
       "      <td>5</td>\n",
       "      <td>Had to wait about two hours for just a lava ca...</td>\n",
       "      <td>attention</td>\n",
       "    </tr>\n",
       "  </tbody>\n",
       "</table>\n",
       "<p>994 rows × 4 columns</p>\n",
       "</div>"
      ],
      "text/plain": [
       "                        title  stars  \\\n",
       "6     Pizza Hut - Union Place      5   \n",
       "7     Pizza Hut - Union Place      5   \n",
       "12    Pizza Hut - Union Place      5   \n",
       "13    Pizza Hut - Union Place      5   \n",
       "15    Pizza Hut - Union Place      5   \n",
       "...                       ...    ...   \n",
       "3994  Pizza Hut - Union Place      5   \n",
       "3996  Pizza Hut - Union Place      4   \n",
       "3997  Pizza Hut - Union Place      5   \n",
       "3998  Pizza Hut - Union Place      4   \n",
       "3999  Pizza Hut - Union Place      5   \n",
       "\n",
       "                                                   text  checkmore  \n",
       "6                 Good place to visit to have some food  attention  \n",
       "7     Had a personal pan chicken tandoori, it was qu...  attention  \n",
       "12    Very good place to dine in Pizza\\nNice and qui...  attention  \n",
       "13                    Very good service..clean place...  attention  \n",
       "15    Yes it was very clean beautiful environment. p...  attention  \n",
       "...                                                 ...        ...  \n",
       "3994                     Ample parking & friendly staff  attention  \n",
       "3996                                 Very helpful staff  attention  \n",
       "3997  Very good outlet. Since this is a restaurant t...  attention  \n",
       "3998  Our usual family dinner place at least once in...  attention  \n",
       "3999  Had to wait about two hours for just a lava ca...  attention  \n",
       "\n",
       "[994 rows x 4 columns]"
      ]
     },
     "execution_count": 42,
     "metadata": {},
     "output_type": "execute_result"
    }
   ],
   "source": [
    "data.head(1000)"
   ]
  },
  {
   "cell_type": "code",
   "execution_count": 13,
   "metadata": {},
   "outputs": [
    {
     "name": "stdout",
     "output_type": "stream",
     "text": [
      "stars\n",
      "5    532\n",
      "4    268\n",
      "3     90\n",
      "1     69\n",
      "2     35\n",
      "Name: count, dtype: int64\n"
     ]
    }
   ],
   "source": [
    "a = data['stars'].value_counts()\n",
    "print(a)"
   ]
  },
  {
   "cell_type": "code",
   "execution_count": 14,
   "metadata": {},
   "outputs": [
    {
     "data": {
      "text/html": [
       "<div>\n",
       "<style scoped>\n",
       "    .dataframe tbody tr th:only-of-type {\n",
       "        vertical-align: middle;\n",
       "    }\n",
       "\n",
       "    .dataframe tbody tr th {\n",
       "        vertical-align: top;\n",
       "    }\n",
       "\n",
       "    .dataframe thead th {\n",
       "        text-align: right;\n",
       "    }\n",
       "</style>\n",
       "<table border=\"1\" class=\"dataframe\">\n",
       "  <thead>\n",
       "    <tr style=\"text-align: right;\">\n",
       "      <th></th>\n",
       "      <th>title</th>\n",
       "      <th>stars</th>\n",
       "      <th>text</th>\n",
       "      <th>checkmore</th>\n",
       "    </tr>\n",
       "  </thead>\n",
       "  <tbody>\n",
       "    <tr>\n",
       "      <th>21</th>\n",
       "      <td>Pizza Hut - Union Place</td>\n",
       "      <td>1</td>\n",
       "      <td>Ordered a Seafood pasta. It was not delivered ...</td>\n",
       "      <td>attention</td>\n",
       "    </tr>\n",
       "    <tr>\n",
       "      <th>25</th>\n",
       "      <td>Pizza Hut - Union Place</td>\n",
       "      <td>3</td>\n",
       "      <td>Typical Pizza Hut but very slow service</td>\n",
       "      <td>attention</td>\n",
       "    </tr>\n",
       "    <tr>\n",
       "      <th>38</th>\n",
       "      <td>Pizza Hut - Union Place</td>\n",
       "      <td>3</td>\n",
       "      <td>nan</td>\n",
       "      <td>non attention</td>\n",
       "    </tr>\n",
       "    <tr>\n",
       "      <th>43</th>\n",
       "      <td>Pizza Hut - Union Place</td>\n",
       "      <td>3</td>\n",
       "      <td>Normal Pizza Hut</td>\n",
       "      <td>attention</td>\n",
       "    </tr>\n",
       "    <tr>\n",
       "      <th>53</th>\n",
       "      <td>Pizza Hut - Union Place</td>\n",
       "      <td>3</td>\n",
       "      <td>nan</td>\n",
       "      <td>non attention</td>\n",
       "    </tr>\n",
       "  </tbody>\n",
       "</table>\n",
       "</div>"
      ],
      "text/plain": [
       "                      title  stars  \\\n",
       "21  Pizza Hut - Union Place      1   \n",
       "25  Pizza Hut - Union Place      3   \n",
       "38  Pizza Hut - Union Place      3   \n",
       "43  Pizza Hut - Union Place      3   \n",
       "53  Pizza Hut - Union Place      3   \n",
       "\n",
       "                                                 text      checkmore  \n",
       "21  Ordered a Seafood pasta. It was not delivered ...      attention  \n",
       "25            Typical Pizza Hut but very slow service      attention  \n",
       "38                                                nan  non attention  \n",
       "43                                   Normal Pizza Hut      attention  \n",
       "53                                                nan  non attention  "
      ]
     },
     "execution_count": 14,
     "metadata": {},
     "output_type": "execute_result"
    }
   ],
   "source": [
    "data = df.loc[df['stars'] < 4]\n",
    "data.head()"
   ]
  },
  {
   "cell_type": "code",
   "execution_count": 15,
   "metadata": {},
   "outputs": [
    {
     "data": {
      "text/plain": [
       "(194, 4)"
      ]
     },
     "execution_count": 15,
     "metadata": {},
     "output_type": "execute_result"
    }
   ],
   "source": [
    "\n",
    "data = data.loc[data['checkmore'] == 'attention']\n",
    "data.shape"
   ]
  },
  {
   "cell_type": "code",
   "execution_count": 20,
   "metadata": {},
   "outputs": [
    {
     "data": {
      "text/html": [
       "<div>\n",
       "<style scoped>\n",
       "    .dataframe tbody tr th:only-of-type {\n",
       "        vertical-align: middle;\n",
       "    }\n",
       "\n",
       "    .dataframe tbody tr th {\n",
       "        vertical-align: top;\n",
       "    }\n",
       "\n",
       "    .dataframe thead th {\n",
       "        text-align: right;\n",
       "    }\n",
       "</style>\n",
       "<table border=\"1\" class=\"dataframe\">\n",
       "  <thead>\n",
       "    <tr style=\"text-align: right;\">\n",
       "      <th></th>\n",
       "      <th>title</th>\n",
       "      <th>stars</th>\n",
       "      <th>text</th>\n",
       "      <th>checkmore</th>\n",
       "    </tr>\n",
       "  </thead>\n",
       "  <tbody>\n",
       "    <tr>\n",
       "      <th>21</th>\n",
       "      <td>Pizza Hut - Union Place</td>\n",
       "      <td>1</td>\n",
       "      <td>Ordered a Seafood pasta. It was not delivered ...</td>\n",
       "      <td>attention</td>\n",
       "    </tr>\n",
       "    <tr>\n",
       "      <th>25</th>\n",
       "      <td>Pizza Hut - Union Place</td>\n",
       "      <td>3</td>\n",
       "      <td>Typical Pizza Hut but very slow service</td>\n",
       "      <td>attention</td>\n",
       "    </tr>\n",
       "    <tr>\n",
       "      <th>43</th>\n",
       "      <td>Pizza Hut - Union Place</td>\n",
       "      <td>3</td>\n",
       "      <td>Normal Pizza Hut</td>\n",
       "      <td>attention</td>\n",
       "    </tr>\n",
       "    <tr>\n",
       "      <th>56</th>\n",
       "      <td>Pizza Hut - Union Place</td>\n",
       "      <td>1</td>\n",
       "      <td>Our overall experience was very bad. We had to...</td>\n",
       "      <td>attention</td>\n",
       "    </tr>\n",
       "    <tr>\n",
       "      <th>63</th>\n",
       "      <td>Pizza Hut - Union Place</td>\n",
       "      <td>1</td>\n",
       "      <td>Poor customer service</td>\n",
       "      <td>attention</td>\n",
       "    </tr>\n",
       "    <tr>\n",
       "      <th>...</th>\n",
       "      <td>...</td>\n",
       "      <td>...</td>\n",
       "      <td>...</td>\n",
       "      <td>...</td>\n",
       "    </tr>\n",
       "    <tr>\n",
       "      <th>1363</th>\n",
       "      <td>Pizza Hut - Union Place</td>\n",
       "      <td>3</td>\n",
       "      <td>Garlic bread was not up to the mark. Rest othe...</td>\n",
       "      <td>attention</td>\n",
       "    </tr>\n",
       "    <tr>\n",
       "      <th>1370</th>\n",
       "      <td>Pizza Hut - Union Place</td>\n",
       "      <td>1</td>\n",
       "      <td>Thought I’d try the thin crust pizza here. Bad...</td>\n",
       "      <td>attention</td>\n",
       "    </tr>\n",
       "    <tr>\n",
       "      <th>1398</th>\n",
       "      <td>Pizza Hut - Union Place</td>\n",
       "      <td>3</td>\n",
       "      <td>One of the largest outlets in the Colombo city.</td>\n",
       "      <td>attention</td>\n",
       "    </tr>\n",
       "    <tr>\n",
       "      <th>1400</th>\n",
       "      <td>Pizza Hut - Union Place</td>\n",
       "      <td>2</td>\n",
       "      <td>Furchtbar, hier sollte Pizza Hut einfach mal K...</td>\n",
       "      <td>attention</td>\n",
       "    </tr>\n",
       "    <tr>\n",
       "      <th>1608</th>\n",
       "      <td>Pizza Hut - Union Place</td>\n",
       "      <td>3</td>\n",
       "      <td>Good place, little rush!</td>\n",
       "      <td>attention</td>\n",
       "    </tr>\n",
       "  </tbody>\n",
       "</table>\n",
       "<p>100 rows × 4 columns</p>\n",
       "</div>"
      ],
      "text/plain": [
       "                        title  stars  \\\n",
       "21    Pizza Hut - Union Place      1   \n",
       "25    Pizza Hut - Union Place      3   \n",
       "43    Pizza Hut - Union Place      3   \n",
       "56    Pizza Hut - Union Place      1   \n",
       "63    Pizza Hut - Union Place      1   \n",
       "...                       ...    ...   \n",
       "1363  Pizza Hut - Union Place      3   \n",
       "1370  Pizza Hut - Union Place      1   \n",
       "1398  Pizza Hut - Union Place      3   \n",
       "1400  Pizza Hut - Union Place      2   \n",
       "1608  Pizza Hut - Union Place      3   \n",
       "\n",
       "                                                   text  checkmore  \n",
       "21    Ordered a Seafood pasta. It was not delivered ...  attention  \n",
       "25              Typical Pizza Hut but very slow service  attention  \n",
       "43                                     Normal Pizza Hut  attention  \n",
       "56    Our overall experience was very bad. We had to...  attention  \n",
       "63                                Poor customer service  attention  \n",
       "...                                                 ...        ...  \n",
       "1363  Garlic bread was not up to the mark. Rest othe...  attention  \n",
       "1370  Thought I’d try the thin crust pizza here. Bad...  attention  \n",
       "1398    One of the largest outlets in the Colombo city.  attention  \n",
       "1400  Furchtbar, hier sollte Pizza Hut einfach mal K...  attention  \n",
       "1608                           Good place, little rush!  attention  \n",
       "\n",
       "[100 rows x 4 columns]"
      ]
     },
     "execution_count": 20,
     "metadata": {},
     "output_type": "execute_result"
    }
   ],
   "source": [
    "data.head(100)"
   ]
  },
  {
   "cell_type": "code",
   "execution_count": 21,
   "metadata": {},
   "outputs": [
    {
     "name": "stdout",
     "output_type": "stream",
     "text": [
      "text\n",
      "Poor customer service                                                                                                                                                                                                                                                                                                                                                                                                                2\n",
      "Ordered a Seafood pasta. It was not delivered with rest of food. Had to go to billing desk to say that pasta is not delivered. After about 7 minutes, waitress who served us informed the Pasta plate cracked in the oven due to heat  and a new dish was being made. Waitress should have informed us since the Kitchen is not miles away. Pathetic service by Pizza Hut. Hope management of John Keells should take a note too.    1\n",
      "services not good                                                                                                                                                                                                                                                                                                                                                                                                                    1\n",
      "They skip out the meat and vegetables; it's mostly just a thin layer of cheese on a doughy oil soaked bread that's been tossed in the oven.                                                                                                                                                                                                                                                                                          1\n",
      "Too noisy & lousy food                                                                                                                                                                                                                                                                                                                                                                                                               1\n",
      "                                                                                                                                                                                                                                                                                                                                                                                                                                    ..\n",
      "Very bad, service very bad and slow motion                                                                                                                                                                                                                                                                                                                                                                                           1\n",
      "This is the 1st piza hut in Sri Lanka at Union place earlier croud has moved to Hapos, Arthur's piza much tester and good quality and reasonable servings and a good atmosphere too try it 👍                                                                                                                                                                                                                                         1\n",
      "Always Crowded during holidays, but service excellent whenever I visited with my family                                                                                                                                                                                                                                                                                                                                              1\n",
      "AC is not working properly. It is too hot in there. But staff is very friendly.                                                                                                                                                                                                                                                                                                                                                      1\n",
      "Poor customer service even thogh the food quality is okay.                                                                                                                                                                                                                                                                                                                                                                           1\n",
      "Name: count, Length: 193, dtype: int64\n"
     ]
    }
   ],
   "source": [
    "a  = data['text'].value_counts()\n",
    "print(a)"
   ]
  },
  {
   "cell_type": "markdown",
   "metadata": {},
   "source": [
    "### 5. Kết  Luận  và đề  xuất  giải  pháp"
   ]
  },
  {
   "cell_type": "markdown",
   "metadata": {},
   "source": [
    "Dựa  vào  số  liệu  hiển  thị, có  thể  thấy rằng, cần chú ý đến 194 góp ý từ khách hàng để nâng cao chất lượng dịch vụ. Khách hàng phàn nàn về việc phục vụ chậm, order sai, không hợp khẩu vị khách hàng và đặc biết là cách xử lý của nhân viên khá chậm."
   ]
  }
 ],
 "metadata": {
  "kernelspec": {
   "display_name": "Python 3 (ipykernel)",
   "language": "python",
   "name": "python3"
  },
  "language_info": {
   "codemirror_mode": {
    "name": "ipython",
    "version": 3
   },
   "file_extension": ".py",
   "mimetype": "text/x-python",
   "name": "python",
   "nbconvert_exporter": "python",
   "pygments_lexer": "ipython3",
   "version": "3.8.2"
  }
 },
 "nbformat": 4,
 "nbformat_minor": 2
}
